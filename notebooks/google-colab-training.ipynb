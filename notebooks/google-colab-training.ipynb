{
  "cells": [
    {
      "cell_type": "code",
      "execution_count": null,
      "metadata": {
        "colab": {
          "base_uri": "https://localhost:8080/"
        },
        "id": "C4o20oWVzia-",
        "outputId": "34585365-59a4-4648-a2ec-29eb34c948bf"
      },
      "outputs": [],
      "source": [
        "!wget https://otecmicro.s-ul.eu/"
      ]
    },
    {
      "cell_type": "code",
      "execution_count": null,
      "metadata": {
        "colab": {
          "base_uri": "https://localhost:8080/"
        },
        "id": "lGsKHctn1Jwf",
        "outputId": "b7d53cb6-9340-41a6-de20-d08984811a7a"
      },
      "outputs": [],
      "source": [
        "!unzip "
      ]
    },
    {
      "cell_type": "code",
      "execution_count": null,
      "metadata": {
        "colab": {
          "base_uri": "https://localhost:8080/"
        },
        "id": "vDHvhKLk1PDL",
        "outputId": "f6046536-24ac-4904-a291-79adc5002404"
      },
      "outputs": [],
      "source": [
        "!pip install transformers datasets wandb sentencepiece hydra-core pandarallel -qqq"
      ]
    },
    {
      "cell_type": "code",
      "execution_count": null,
      "metadata": {
        "colab": {
          "base_uri": "https://localhost:8080/"
        },
        "id": "3Q4isTog1-l_",
        "outputId": "d7f05b8d-053f-4f49-d89f-63ba8df7698d"
      },
      "outputs": [],
      "source": [
        "import wandb\n",
        "wandb.login(key=\"\")"
      ]
    },
    {
      "cell_type": "code",
      "execution_count": null,
      "metadata": {
        "colab": {
          "base_uri": "https://localhost:8080/"
        },
        "id": "qh6_12MSih7y",
        "outputId": "0e707248-d79d-423f-c626-3072d798bfa4"
      },
      "outputs": [],
      "source": [
        "from huggingface_hub import notebook_login, login\n",
        "login(\"\", True)"
      ]
    },
    {
      "cell_type": "code",
      "execution_count": null,
      "metadata": {
        "colab": {
          "base_uri": "https://localhost:8080/"
        },
        "id": "ZJQYDsgf1xZz",
        "outputId": "89eacf0e-c334-4df5-84da-783432042b21"
      },
      "outputs": [],
      "source": [
        "!python main.py model=rubert-base-cased dataset=russian-sentiment trainer.num_epochs=2"
      ]
    },
    {
      "cell_type": "code",
      "execution_count": null,
      "metadata": {
        "colab": {
          "base_uri": "https://localhost:8080/"
        },
        "id": "fel3cjo22mjx",
        "outputId": "8749ae57-76ba-49a6-b7db-bce4a773a829"
      },
      "outputs": [],
      "source": [
        "!nvidia-smi"
      ]
    },
    {
      "cell_type": "code",
      "execution_count": null,
      "metadata": {
        "id": "UlyfV-Go2nUS"
      },
      "outputs": [],
      "source": []
    }
  ],
  "metadata": {
    "accelerator": "GPU",
    "colab": {
      "provenance": []
    },
    "gpuClass": "standard",
    "kernelspec": {
      "display_name": "Python 3",
      "name": "python3"
    },
    "language_info": {
      "codemirror_mode": {
        "name": "ipython",
        "version": 3
      },
      "file_extension": ".py",
      "mimetype": "text/x-python",
      "name": "python",
      "nbconvert_exporter": "python",
      "pygments_lexer": "ipython3",
      "version": "3.9.16"
    }
  },
  "nbformat": 4,
  "nbformat_minor": 0
}
