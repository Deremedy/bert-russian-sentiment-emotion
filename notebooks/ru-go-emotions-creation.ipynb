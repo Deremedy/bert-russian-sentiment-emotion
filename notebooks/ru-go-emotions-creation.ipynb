{
 "cells": [
  {
   "cell_type": "code",
   "execution_count": 2,
   "metadata": {},
   "outputs": [],
   "source": [
    "from datasets import load_dataset\n",
    "import pandas as pd\n",
    "from deep_translator import GoogleTranslator\n",
    "import time\n",
    "from huggingface_hub import notebook_login\n"
   ]
  },
  {
   "cell_type": "code",
   "execution_count": 2,
   "metadata": {},
   "outputs": [
    {
     "name": "stderr",
     "output_type": "stream",
     "text": [
      "No config specified, defaulting to: go_emotions/simplified\n",
      "Found cached dataset go_emotions (/home/seara/.cache/huggingface/datasets/go_emotions/simplified/0.0.0/2637cfdd4e64d30249c3ed2150fa2b9d279766bfcd6a809b9f085c61a90d776d)\n"
     ]
    },
    {
     "data": {
      "application/vnd.jupyter.widget-view+json": {
       "model_id": "3e557f94b61c48d085111ae6a587b489",
       "version_major": 2,
       "version_minor": 0
      },
      "text/plain": [
       "  0%|          | 0/3 [00:00<?, ?it/s]"
      ]
     },
     "metadata": {},
     "output_type": "display_data"
    }
   ],
   "source": [
    "go_emotions = load_dataset(\"go_emotions\")\n"
   ]
  },
  {
   "cell_type": "code",
   "execution_count": 3,
   "metadata": {},
   "outputs": [],
   "source": [
    "# translator = GoogleTranslator(source=\"en\", target=\"ru\")\n",
    "# for split in [\"train\", \"validation\"]:\n",
    "#     i = 0\n",
    "#     with open(f\"{split}.txt\", \"a\") as f:\n",
    "#         while i < len(go_emotions[split]):\n",
    "#             try:\n",
    "#                 batch = go_emotions[split][i : i + 100][\"text\"]\n",
    "#                 translations = translator.translate_batch(batch)\n",
    "#                 for j in range(len(translations)):\n",
    "#                     if not translations[j]:\n",
    "#                         print(\"Replaced\", translations[j], batch[j])\n",
    "#                         translations[j] = batch[j]\n",
    "#                 print(split, i, len(dict(zip(batch, translations))))\n",
    "#                 f.writelines(\"\\n\".join(translations))\n",
    "#                 f.write(\"\\n\")\n",
    "#                 i += 100\n",
    "#             except Exception as e:\n",
    "#                 print(e)\n",
    "#                 time.sleep(2)\n",
    "#                 continue\n",
    "#             if i % 100 == 0:\n",
    "#                 translator = GoogleTranslator(source=\"en\", target=\"ru\")"
   ]
  },
  {
   "cell_type": "code",
   "execution_count": 4,
   "metadata": {},
   "outputs": [],
   "source": [
    "# for split in [\"test\"]:\n",
    "#     i = 0\n",
    "#     with open(f\"{split}.txt\", \"a\") as f:\n",
    "#         while i < len(go_emotions[split]):\n",
    "#             try:\n",
    "#                 batch = go_emotions[split][i : i + 10][\"text\"]\n",
    "#                 translations = translator.translate_batch(batch)\n",
    "#                 for j in range(len(translations)):\n",
    "#                     if not translations[j]:\n",
    "#                         print(\"Replaced\", translations[j], batch[j])\n",
    "#                         translations[j] = batch[j]\n",
    "#                 print(split, i, len(dict(zip(batch, translations))))\n",
    "#                 f.writelines(\"\\n\".join(translations))\n",
    "#                 f.write(\"\\n\")\n",
    "#                 i += 10\n",
    "#             except Exception as e:\n",
    "#                 print(e)\n",
    "#                 time.sleep(2)\n",
    "#                 continue\n",
    "#             if i % 100 == 0:\n",
    "#                 translator = GoogleTranslator(source=\"en\", target=\"ru\")\n"
   ]
  },
  {
   "cell_type": "code",
   "execution_count": 5,
   "metadata": {},
   "outputs": [],
   "source": [
    "ru_go_emotions = go_emotions\n",
    "for split in ru_go_emotions:\n",
    "    with open(f\"{split}.txt\", \"r\") as f:\n",
    "        text = f.readlines()\n",
    "        text = [x.rstrip() for x in text]\n",
    "        ru_go_emotions[split] = ru_go_emotions[split].add_column(\"ru_text\", text)"
   ]
  },
  {
   "cell_type": "code",
   "execution_count": 6,
   "metadata": {},
   "outputs": [
    {
     "data": {
      "text/html": [
       "<div>\n",
       "<style scoped>\n",
       "    .dataframe tbody tr th:only-of-type {\n",
       "        vertical-align: middle;\n",
       "    }\n",
       "\n",
       "    .dataframe tbody tr th {\n",
       "        vertical-align: top;\n",
       "    }\n",
       "\n",
       "    .dataframe thead th {\n",
       "        text-align: right;\n",
       "    }\n",
       "</style>\n",
       "<table border=\"1\" class=\"dataframe\">\n",
       "  <thead>\n",
       "    <tr style=\"text-align: right;\">\n",
       "      <th></th>\n",
       "      <th>text</th>\n",
       "      <th>labels</th>\n",
       "      <th>id</th>\n",
       "      <th>ru_text</th>\n",
       "    </tr>\n",
       "  </thead>\n",
       "  <tbody>\n",
       "    <tr>\n",
       "      <th>0</th>\n",
       "      <td>My favourite food is anything I didn't have to...</td>\n",
       "      <td>[27]</td>\n",
       "      <td>eebbqej</td>\n",
       "      <td>Моя любимая еда — это все, что мне не приходил...</td>\n",
       "    </tr>\n",
       "    <tr>\n",
       "      <th>1</th>\n",
       "      <td>Now if he does off himself, everyone will thin...</td>\n",
       "      <td>[27]</td>\n",
       "      <td>ed00q6i</td>\n",
       "      <td>Теперь, если он покончит с собой, все будут ду...</td>\n",
       "    </tr>\n",
       "    <tr>\n",
       "      <th>2</th>\n",
       "      <td>WHY THE FUCK IS BAYLESS ISOING</td>\n",
       "      <td>[2]</td>\n",
       "      <td>eezlygj</td>\n",
       "      <td>ПОЧЕМУ, БЛЯДЬ, БЕЗ БЕЙЛЕС-ИЗОИНГ</td>\n",
       "    </tr>\n",
       "    <tr>\n",
       "      <th>3</th>\n",
       "      <td>To make her feel threatened</td>\n",
       "      <td>[14]</td>\n",
       "      <td>ed7ypvh</td>\n",
       "      <td>Чтобы заставить ее чувствовать себя под угрозой</td>\n",
       "    </tr>\n",
       "    <tr>\n",
       "      <th>4</th>\n",
       "      <td>Dirty Southern Wankers</td>\n",
       "      <td>[3]</td>\n",
       "      <td>ed0bdzj</td>\n",
       "      <td>Грязные южные дрочки</td>\n",
       "    </tr>\n",
       "    <tr>\n",
       "      <th>...</th>\n",
       "      <td>...</td>\n",
       "      <td>...</td>\n",
       "      <td>...</td>\n",
       "      <td>...</td>\n",
       "    </tr>\n",
       "    <tr>\n",
       "      <th>43405</th>\n",
       "      <td>Added you mate well I’ve just got the bow and ...</td>\n",
       "      <td>[18]</td>\n",
       "      <td>edsb738</td>\n",
       "      <td>Добавил, дружище, я только что получил лук, и ...</td>\n",
       "    </tr>\n",
       "    <tr>\n",
       "      <th>43406</th>\n",
       "      <td>Always thought that was funny but is it a refe...</td>\n",
       "      <td>[6]</td>\n",
       "      <td>ee7fdou</td>\n",
       "      <td>Всегда думал, что это смешно, но это отсылка к...</td>\n",
       "    </tr>\n",
       "    <tr>\n",
       "      <th>43407</th>\n",
       "      <td>What are you talking about? Anything bad that ...</td>\n",
       "      <td>[3]</td>\n",
       "      <td>efgbhks</td>\n",
       "      <td>О чем ты говоришь? Все плохое, что случилось, ...</td>\n",
       "    </tr>\n",
       "    <tr>\n",
       "      <th>43408</th>\n",
       "      <td>More like a baptism, with sexy results!</td>\n",
       "      <td>[13]</td>\n",
       "      <td>ed1naf8</td>\n",
       "      <td>Больше похоже на крещение, с сексуальными резу...</td>\n",
       "    </tr>\n",
       "    <tr>\n",
       "      <th>43409</th>\n",
       "      <td>Enjoy the ride!</td>\n",
       "      <td>[17]</td>\n",
       "      <td>eecwmbq</td>\n",
       "      <td>Насладиться поездкой!</td>\n",
       "    </tr>\n",
       "  </tbody>\n",
       "</table>\n",
       "<p>43410 rows × 4 columns</p>\n",
       "</div>"
      ],
      "text/plain": [
       "                                                    text labels       id  \\\n",
       "0      My favourite food is anything I didn't have to...   [27]  eebbqej   \n",
       "1      Now if he does off himself, everyone will thin...   [27]  ed00q6i   \n",
       "2                         WHY THE FUCK IS BAYLESS ISOING    [2]  eezlygj   \n",
       "3                            To make her feel threatened   [14]  ed7ypvh   \n",
       "4                                 Dirty Southern Wankers    [3]  ed0bdzj   \n",
       "...                                                  ...    ...      ...   \n",
       "43405  Added you mate well I’ve just got the bow and ...   [18]  edsb738   \n",
       "43406  Always thought that was funny but is it a refe...    [6]  ee7fdou   \n",
       "43407  What are you talking about? Anything bad that ...    [3]  efgbhks   \n",
       "43408            More like a baptism, with sexy results!   [13]  ed1naf8   \n",
       "43409                                    Enjoy the ride!   [17]  eecwmbq   \n",
       "\n",
       "                                                 ru_text  \n",
       "0      Моя любимая еда — это все, что мне не приходил...  \n",
       "1      Теперь, если он покончит с собой, все будут ду...  \n",
       "2                       ПОЧЕМУ, БЛЯДЬ, БЕЗ БЕЙЛЕС-ИЗОИНГ  \n",
       "3        Чтобы заставить ее чувствовать себя под угрозой  \n",
       "4                                   Грязные южные дрочки  \n",
       "...                                                  ...  \n",
       "43405  Добавил, дружище, я только что получил лук, и ...  \n",
       "43406  Всегда думал, что это смешно, но это отсылка к...  \n",
       "43407  О чем ты говоришь? Все плохое, что случилось, ...  \n",
       "43408  Больше похоже на крещение, с сексуальными резу...  \n",
       "43409                              Насладиться поездкой!  \n",
       "\n",
       "[43410 rows x 4 columns]"
      ]
     },
     "execution_count": 6,
     "metadata": {},
     "output_type": "execute_result"
    }
   ],
   "source": [
    "pd.DataFrame(ru_go_emotions[\"train\"])"
   ]
  },
  {
   "cell_type": "code",
   "execution_count": 7,
   "metadata": {},
   "outputs": [
    {
     "name": "stdout",
     "output_type": "stream",
     "text": [
      "Token is valid.\n",
      "Your token has been saved in your configured git credential helpers (store).\n",
      "Your token has been saved to /home/seara/.cache/huggingface/token\n",
      "Login successful\n"
     ]
    }
   ],
   "source": [
    "notebook_login()"
   ]
  },
  {
   "cell_type": "code",
   "execution_count": 9,
   "metadata": {},
   "outputs": [
    {
     "name": "stderr",
     "output_type": "stream",
     "text": [
      "Pushing split train to the Hub.\n"
     ]
    },
    {
     "data": {
      "application/vnd.jupyter.widget-view+json": {
       "model_id": "a03404c66f7f4fdd881894d72fd18c55",
       "version_major": 2,
       "version_minor": 0
      },
      "text/plain": [
       "Pushing dataset shards to the dataset hub:   0%|          | 0/1 [00:00<?, ?it/s]"
      ]
     },
     "metadata": {},
     "output_type": "display_data"
    },
    {
     "data": {
      "application/vnd.jupyter.widget-view+json": {
       "model_id": "3d17c649353b477189ce6dfaaece9c7e",
       "version_major": 2,
       "version_minor": 0
      },
      "text/plain": [
       "Creating parquet from Arrow format:   0%|          | 0/44 [00:00<?, ?ba/s]"
      ]
     },
     "metadata": {},
     "output_type": "display_data"
    },
    {
     "data": {
      "application/vnd.jupyter.widget-view+json": {
       "model_id": "aab7922574f14bed974737c73e4c4de6",
       "version_major": 2,
       "version_minor": 0
      },
      "text/plain": [
       "Upload 1 LFS files:   0%|          | 0/1 [00:00<?, ?it/s]"
      ]
     },
     "metadata": {},
     "output_type": "display_data"
    },
    {
     "name": "stderr",
     "output_type": "stream",
     "text": [
      "Pushing split validation to the Hub.\n"
     ]
    },
    {
     "data": {
      "application/vnd.jupyter.widget-view+json": {
       "model_id": "eaf21b9d24b445c4b97ede3031309af8",
       "version_major": 2,
       "version_minor": 0
      },
      "text/plain": [
       "Pushing dataset shards to the dataset hub:   0%|          | 0/1 [00:00<?, ?it/s]"
      ]
     },
     "metadata": {},
     "output_type": "display_data"
    },
    {
     "data": {
      "application/vnd.jupyter.widget-view+json": {
       "model_id": "2f5e179c9b7e407ab5d9aafb50948c63",
       "version_major": 2,
       "version_minor": 0
      },
      "text/plain": [
       "Creating parquet from Arrow format:   0%|          | 0/6 [00:00<?, ?ba/s]"
      ]
     },
     "metadata": {},
     "output_type": "display_data"
    },
    {
     "data": {
      "application/vnd.jupyter.widget-view+json": {
       "model_id": "94adfc65f8ae42698220d327b5d24aef",
       "version_major": 2,
       "version_minor": 0
      },
      "text/plain": [
       "Upload 1 LFS files:   0%|          | 0/1 [00:00<?, ?it/s]"
      ]
     },
     "metadata": {},
     "output_type": "display_data"
    },
    {
     "name": "stderr",
     "output_type": "stream",
     "text": [
      "Pushing split test to the Hub.\n"
     ]
    },
    {
     "data": {
      "application/vnd.jupyter.widget-view+json": {
       "model_id": "36b2f41601f747ba8513803790765768",
       "version_major": 2,
       "version_minor": 0
      },
      "text/plain": [
       "Pushing dataset shards to the dataset hub:   0%|          | 0/1 [00:00<?, ?it/s]"
      ]
     },
     "metadata": {},
     "output_type": "display_data"
    },
    {
     "data": {
      "application/vnd.jupyter.widget-view+json": {
       "model_id": "c1e024bb5a4f465baef184fb5afb3da9",
       "version_major": 2,
       "version_minor": 0
      },
      "text/plain": [
       "Creating parquet from Arrow format:   0%|          | 0/6 [00:00<?, ?ba/s]"
      ]
     },
     "metadata": {},
     "output_type": "display_data"
    },
    {
     "data": {
      "application/vnd.jupyter.widget-view+json": {
       "model_id": "e971ea8dc8bc425bbf85a7b0a447c3a6",
       "version_major": 2,
       "version_minor": 0
      },
      "text/plain": [
       "Upload 1 LFS files:   0%|          | 0/1 [00:00<?, ?it/s]"
      ]
     },
     "metadata": {},
     "output_type": "display_data"
    }
   ],
   "source": [
    "\n",
    "ru_go_emotions.push_to_hub(\"ru-go-emotions\")"
   ]
  },
  {
   "cell_type": "code",
   "execution_count": 3,
   "metadata": {},
   "outputs": [
    {
     "data": {
      "application/vnd.jupyter.widget-view+json": {
       "model_id": "b1fdc530bb224ca5a7fea2ce4398a2e2",
       "version_major": 2,
       "version_minor": 0
      },
      "text/plain": [
       "Downloading readme:   0%|          | 0.00/1.31k [00:00<?, ?B/s]"
      ]
     },
     "metadata": {},
     "output_type": "display_data"
    },
    {
     "name": "stderr",
     "output_type": "stream",
     "text": [
      "Using custom data configuration seara--ru-go-emotions-010f1c10233a04e9\n"
     ]
    },
    {
     "name": "stdout",
     "output_type": "stream",
     "text": [
      "Downloading and preparing dataset None/None to /home/seara/.cache/huggingface/datasets/seara___parquet/seara--ru-go-emotions-010f1c10233a04e9/0.0.0/2a3b91fbd88a2c90d1dbbb32b460cf621d31bd5b05b934492fdef7d8d6f236ec...\n"
     ]
    },
    {
     "data": {
      "application/vnd.jupyter.widget-view+json": {
       "model_id": "922ad064348f4243a7927decc4b4d339",
       "version_major": 2,
       "version_minor": 0
      },
      "text/plain": [
       "Downloading data files:   0%|          | 0/3 [00:00<?, ?it/s]"
      ]
     },
     "metadata": {},
     "output_type": "display_data"
    },
    {
     "data": {
      "application/vnd.jupyter.widget-view+json": {
       "model_id": "196a6733d8ff4680921dd7b98d25b35e",
       "version_major": 2,
       "version_minor": 0
      },
      "text/plain": [
       "Downloading data:   0%|          | 0.00/6.05M [00:00<?, ?B/s]"
      ]
     },
     "metadata": {},
     "output_type": "display_data"
    },
    {
     "data": {
      "application/vnd.jupyter.widget-view+json": {
       "model_id": "b767603f144e40589e9178925233aa3d",
       "version_major": 2,
       "version_minor": 0
      },
      "text/plain": [
       "Downloading data:   0%|          | 0.00/758k [00:00<?, ?B/s]"
      ]
     },
     "metadata": {},
     "output_type": "display_data"
    },
    {
     "data": {
      "application/vnd.jupyter.widget-view+json": {
       "model_id": "e6be3274238a42ccbd13dbbc4b5ce9c0",
       "version_major": 2,
       "version_minor": 0
      },
      "text/plain": [
       "Downloading data:   0%|          | 0.00/753k [00:00<?, ?B/s]"
      ]
     },
     "metadata": {},
     "output_type": "display_data"
    },
    {
     "data": {
      "application/vnd.jupyter.widget-view+json": {
       "model_id": "5bec949e4f8a4567ab6bcccf0778228d",
       "version_major": 2,
       "version_minor": 0
      },
      "text/plain": [
       "Extracting data files:   0%|          | 0/3 [00:00<?, ?it/s]"
      ]
     },
     "metadata": {},
     "output_type": "display_data"
    },
    {
     "data": {
      "application/vnd.jupyter.widget-view+json": {
       "model_id": "9e219955dbf84965ae3135af8f817e2c",
       "version_major": 2,
       "version_minor": 0
      },
      "text/plain": [
       "Generating train split:   0%|          | 0/43410 [00:00<?, ? examples/s]"
      ]
     },
     "metadata": {},
     "output_type": "display_data"
    },
    {
     "data": {
      "application/vnd.jupyter.widget-view+json": {
       "model_id": "6f085d8959f04ca594acf9a48712307a",
       "version_major": 2,
       "version_minor": 0
      },
      "text/plain": [
       "Generating validation split:   0%|          | 0/5426 [00:00<?, ? examples/s]"
      ]
     },
     "metadata": {},
     "output_type": "display_data"
    },
    {
     "data": {
      "application/vnd.jupyter.widget-view+json": {
       "model_id": "3c11a866771643589ab0d73b7746510e",
       "version_major": 2,
       "version_minor": 0
      },
      "text/plain": [
       "Generating test split:   0%|          | 0/5427 [00:00<?, ? examples/s]"
      ]
     },
     "metadata": {},
     "output_type": "display_data"
    },
    {
     "name": "stdout",
     "output_type": "stream",
     "text": [
      "Dataset parquet downloaded and prepared to /home/seara/.cache/huggingface/datasets/seara___parquet/seara--ru-go-emotions-010f1c10233a04e9/0.0.0/2a3b91fbd88a2c90d1dbbb32b460cf621d31bd5b05b934492fdef7d8d6f236ec. Subsequent calls will reuse this data.\n"
     ]
    },
    {
     "data": {
      "application/vnd.jupyter.widget-view+json": {
       "model_id": "e388e02af8544a6e843e4422aeb8ef60",
       "version_major": 2,
       "version_minor": 0
      },
      "text/plain": [
       "  0%|          | 0/3 [00:00<?, ?it/s]"
      ]
     },
     "metadata": {},
     "output_type": "display_data"
    }
   ],
   "source": [
    "ru_go_emotions = load_dataset(\"seara/ru_go_emotions\")"
   ]
  },
  {
   "cell_type": "code",
   "execution_count": 10,
   "metadata": {},
   "outputs": [
    {
     "data": {
      "text/plain": [
       "28"
      ]
     },
     "execution_count": 10,
     "metadata": {},
     "output_type": "execute_result"
    }
   ],
   "source": [
    "len(ru_go_emotions[\"train\"].features[\"labels\"].feature.names)"
   ]
  },
  {
   "cell_type": "code",
   "execution_count": 12,
   "metadata": {},
   "outputs": [
    {
     "data": {
      "text/plain": [
       "{0: 'admiration',\n",
       " 1: 'amusement',\n",
       " 2: 'anger',\n",
       " 3: 'annoyance',\n",
       " 4: 'approval',\n",
       " 5: 'caring',\n",
       " 6: 'confusion',\n",
       " 7: 'curiosity',\n",
       " 8: 'desire',\n",
       " 9: 'disappointment',\n",
       " 10: 'disapproval',\n",
       " 11: 'disgust',\n",
       " 12: 'embarrassment',\n",
       " 13: 'excitement',\n",
       " 14: 'fear',\n",
       " 15: 'gratitude',\n",
       " 16: 'grief',\n",
       " 17: 'joy',\n",
       " 18: 'love',\n",
       " 19: 'nervousness',\n",
       " 20: 'optimism',\n",
       " 21: 'pride',\n",
       " 22: 'realization',\n",
       " 23: 'relief',\n",
       " 24: 'remorse',\n",
       " 25: 'sadness',\n",
       " 26: 'surprise',\n",
       " 27: 'neutral'}"
      ]
     },
     "execution_count": 12,
     "metadata": {},
     "output_type": "execute_result"
    }
   ],
   "source": [
    "dict(enumerate(ru_go_emotions[\"train\"].features[\"labels\"].feature.names))"
   ]
  }
 ],
 "metadata": {
  "kernelspec": {
   "display_name": "DS",
   "language": "python",
   "name": "python3"
  },
  "language_info": {
   "codemirror_mode": {
    "name": "ipython",
    "version": 3
   },
   "file_extension": ".py",
   "mimetype": "text/x-python",
   "name": "python",
   "nbconvert_exporter": "python",
   "pygments_lexer": "ipython3",
   "version": "3.9.16"
  },
  "orig_nbformat": 4
 },
 "nbformat": 4,
 "nbformat_minor": 2
}
